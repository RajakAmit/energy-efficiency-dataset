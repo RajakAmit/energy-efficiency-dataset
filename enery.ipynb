{
  "nbformat": 4,
  "nbformat_minor": 0,
  "metadata": {
    "colab": {
      "provenance": [],
      "authorship_tag": "ABX9TyPPmzXGy7a22YEsJzV8R5sx",
      "include_colab_link": true
    },
    "kernelspec": {
      "name": "python3",
      "display_name": "Python 3"
    },
    "language_info": {
      "name": "python"
    }
  },
  "cells": [
    {
      "cell_type": "markdown",
      "metadata": {
        "id": "view-in-github",
        "colab_type": "text"
      },
      "source": [
        "<a href=\"https://colab.research.google.com/github/RajakAmit/energy-efficiency-dataset/blob/main/enery.ipynb\" target=\"_parent\"><img src=\"https://colab.research.google.com/assets/colab-badge.svg\" alt=\"Open In Colab\"/></a>"
      ]
    },
    {
      "cell_type": "code",
      "execution_count": 5,
      "metadata": {
        "colab": {
          "base_uri": "https://localhost:8080/",
          "height": 365
        },
        "id": "5t-0pOY1JCVw",
        "outputId": "b6780c1f-d8d6-45ed-dddb-7433fceb77d9"
      },
      "outputs": [
        {
          "output_type": "stream",
          "name": "stdout",
          "text": [
            "Cloning into 'energy-efficiency-dataset'...\n",
            "remote: Enumerating objects: 11, done.\u001b[K\n",
            "remote: Counting objects:   9% (1/11)\u001b[K\rremote: Counting objects:  18% (2/11)\u001b[K\rremote: Counting objects:  27% (3/11)\u001b[K\rremote: Counting objects:  36% (4/11)\u001b[K\rremote: Counting objects:  45% (5/11)\u001b[K\rremote: Counting objects:  54% (6/11)\u001b[K\rremote: Counting objects:  63% (7/11)\u001b[K\rremote: Counting objects:  72% (8/11)\u001b[K\rremote: Counting objects:  81% (9/11)\u001b[K\rremote: Counting objects:  90% (10/11)\u001b[K\rremote: Counting objects: 100% (11/11)\u001b[K\rremote: Counting objects: 100% (11/11), done.\u001b[K\n",
            "remote: Compressing objects: 100% (9/9), done.\u001b[K\n",
            "remote: Total 11 (delta 2), reused 0 (delta 0), pack-reused 0\u001b[K\n",
            "Receiving objects: 100% (11/11), 1.71 MiB | 3.83 MiB/s, done.\n",
            "Resolving deltas: 100% (2/2), done.\n",
            "/content/energy-efficiency-dataset/energy-efficiency-dataset/energy-efficiency-dataset/energy-efficiency-dataset\n"
          ]
        },
        {
          "output_type": "execute_result",
          "data": {
            "text/plain": [
              "     X1     X2     X3      X4   X5  X6   X7  X8     Y1     Y2\n",
              "0  0.98  514.5  294.0  110.25  7.0   2  0.0   0  15.55  21.33\n",
              "1  0.98  514.5  294.0  110.25  7.0   3  0.0   0  15.55  21.33\n",
              "2  0.98  514.5  294.0  110.25  7.0   4  0.0   0  15.55  21.33\n",
              "3  0.98  514.5  294.0  110.25  7.0   5  0.0   0  15.55  21.33\n",
              "4  0.90  563.5  318.5  122.50  7.0   2  0.0   0  20.84  28.28"
            ],
            "text/html": [
              "\n",
              "  <div id=\"df-73ed12fe-e748-4170-8c11-b57b503bd82c\" class=\"colab-df-container\">\n",
              "    <div>\n",
              "<style scoped>\n",
              "    .dataframe tbody tr th:only-of-type {\n",
              "        vertical-align: middle;\n",
              "    }\n",
              "\n",
              "    .dataframe tbody tr th {\n",
              "        vertical-align: top;\n",
              "    }\n",
              "\n",
              "    .dataframe thead th {\n",
              "        text-align: right;\n",
              "    }\n",
              "</style>\n",
              "<table border=\"1\" class=\"dataframe\">\n",
              "  <thead>\n",
              "    <tr style=\"text-align: right;\">\n",
              "      <th></th>\n",
              "      <th>X1</th>\n",
              "      <th>X2</th>\n",
              "      <th>X3</th>\n",
              "      <th>X4</th>\n",
              "      <th>X5</th>\n",
              "      <th>X6</th>\n",
              "      <th>X7</th>\n",
              "      <th>X8</th>\n",
              "      <th>Y1</th>\n",
              "      <th>Y2</th>\n",
              "    </tr>\n",
              "  </thead>\n",
              "  <tbody>\n",
              "    <tr>\n",
              "      <th>0</th>\n",
              "      <td>0.98</td>\n",
              "      <td>514.5</td>\n",
              "      <td>294.0</td>\n",
              "      <td>110.25</td>\n",
              "      <td>7.0</td>\n",
              "      <td>2</td>\n",
              "      <td>0.0</td>\n",
              "      <td>0</td>\n",
              "      <td>15.55</td>\n",
              "      <td>21.33</td>\n",
              "    </tr>\n",
              "    <tr>\n",
              "      <th>1</th>\n",
              "      <td>0.98</td>\n",
              "      <td>514.5</td>\n",
              "      <td>294.0</td>\n",
              "      <td>110.25</td>\n",
              "      <td>7.0</td>\n",
              "      <td>3</td>\n",
              "      <td>0.0</td>\n",
              "      <td>0</td>\n",
              "      <td>15.55</td>\n",
              "      <td>21.33</td>\n",
              "    </tr>\n",
              "    <tr>\n",
              "      <th>2</th>\n",
              "      <td>0.98</td>\n",
              "      <td>514.5</td>\n",
              "      <td>294.0</td>\n",
              "      <td>110.25</td>\n",
              "      <td>7.0</td>\n",
              "      <td>4</td>\n",
              "      <td>0.0</td>\n",
              "      <td>0</td>\n",
              "      <td>15.55</td>\n",
              "      <td>21.33</td>\n",
              "    </tr>\n",
              "    <tr>\n",
              "      <th>3</th>\n",
              "      <td>0.98</td>\n",
              "      <td>514.5</td>\n",
              "      <td>294.0</td>\n",
              "      <td>110.25</td>\n",
              "      <td>7.0</td>\n",
              "      <td>5</td>\n",
              "      <td>0.0</td>\n",
              "      <td>0</td>\n",
              "      <td>15.55</td>\n",
              "      <td>21.33</td>\n",
              "    </tr>\n",
              "    <tr>\n",
              "      <th>4</th>\n",
              "      <td>0.90</td>\n",
              "      <td>563.5</td>\n",
              "      <td>318.5</td>\n",
              "      <td>122.50</td>\n",
              "      <td>7.0</td>\n",
              "      <td>2</td>\n",
              "      <td>0.0</td>\n",
              "      <td>0</td>\n",
              "      <td>20.84</td>\n",
              "      <td>28.28</td>\n",
              "    </tr>\n",
              "  </tbody>\n",
              "</table>\n",
              "</div>\n",
              "    <div class=\"colab-df-buttons\">\n",
              "\n",
              "  <div class=\"colab-df-container\">\n",
              "    <button class=\"colab-df-convert\" onclick=\"convertToInteractive('df-73ed12fe-e748-4170-8c11-b57b503bd82c')\"\n",
              "            title=\"Convert this dataframe to an interactive table.\"\n",
              "            style=\"display:none;\">\n",
              "\n",
              "  <svg xmlns=\"http://www.w3.org/2000/svg\" height=\"24px\" viewBox=\"0 -960 960 960\">\n",
              "    <path d=\"M120-120v-720h720v720H120Zm60-500h600v-160H180v160Zm220 220h160v-160H400v160Zm0 220h160v-160H400v160ZM180-400h160v-160H180v160Zm440 0h160v-160H620v160ZM180-180h160v-160H180v160Zm440 0h160v-160H620v160Z\"/>\n",
              "  </svg>\n",
              "    </button>\n",
              "\n",
              "  <style>\n",
              "    .colab-df-container {\n",
              "      display:flex;\n",
              "      gap: 12px;\n",
              "    }\n",
              "\n",
              "    .colab-df-convert {\n",
              "      background-color: #E8F0FE;\n",
              "      border: none;\n",
              "      border-radius: 50%;\n",
              "      cursor: pointer;\n",
              "      display: none;\n",
              "      fill: #1967D2;\n",
              "      height: 32px;\n",
              "      padding: 0 0 0 0;\n",
              "      width: 32px;\n",
              "    }\n",
              "\n",
              "    .colab-df-convert:hover {\n",
              "      background-color: #E2EBFA;\n",
              "      box-shadow: 0px 1px 2px rgba(60, 64, 67, 0.3), 0px 1px 3px 1px rgba(60, 64, 67, 0.15);\n",
              "      fill: #174EA6;\n",
              "    }\n",
              "\n",
              "    .colab-df-buttons div {\n",
              "      margin-bottom: 4px;\n",
              "    }\n",
              "\n",
              "    [theme=dark] .colab-df-convert {\n",
              "      background-color: #3B4455;\n",
              "      fill: #D2E3FC;\n",
              "    }\n",
              "\n",
              "    [theme=dark] .colab-df-convert:hover {\n",
              "      background-color: #434B5C;\n",
              "      box-shadow: 0px 1px 3px 1px rgba(0, 0, 0, 0.15);\n",
              "      filter: drop-shadow(0px 1px 2px rgba(0, 0, 0, 0.3));\n",
              "      fill: #FFFFFF;\n",
              "    }\n",
              "  </style>\n",
              "\n",
              "    <script>\n",
              "      const buttonEl =\n",
              "        document.querySelector('#df-73ed12fe-e748-4170-8c11-b57b503bd82c button.colab-df-convert');\n",
              "      buttonEl.style.display =\n",
              "        google.colab.kernel.accessAllowed ? 'block' : 'none';\n",
              "\n",
              "      async function convertToInteractive(key) {\n",
              "        const element = document.querySelector('#df-73ed12fe-e748-4170-8c11-b57b503bd82c');\n",
              "        const dataTable =\n",
              "          await google.colab.kernel.invokeFunction('convertToInteractive',\n",
              "                                                    [key], {});\n",
              "        if (!dataTable) return;\n",
              "\n",
              "        const docLinkHtml = 'Like what you see? Visit the ' +\n",
              "          '<a target=\"_blank\" href=https://colab.research.google.com/notebooks/data_table.ipynb>data table notebook</a>'\n",
              "          + ' to learn more about interactive tables.';\n",
              "        element.innerHTML = '';\n",
              "        dataTable['output_type'] = 'display_data';\n",
              "        await google.colab.output.renderOutput(dataTable, element);\n",
              "        const docLink = document.createElement('div');\n",
              "        docLink.innerHTML = docLinkHtml;\n",
              "        element.appendChild(docLink);\n",
              "      }\n",
              "    </script>\n",
              "  </div>\n",
              "\n",
              "\n",
              "<div id=\"df-864f3893-7edf-4259-851f-58b6f82e42c8\">\n",
              "  <button class=\"colab-df-quickchart\" onclick=\"quickchart('df-864f3893-7edf-4259-851f-58b6f82e42c8')\"\n",
              "            title=\"Suggest charts\"\n",
              "            style=\"display:none;\">\n",
              "\n",
              "<svg xmlns=\"http://www.w3.org/2000/svg\" height=\"24px\"viewBox=\"0 0 24 24\"\n",
              "     width=\"24px\">\n",
              "    <g>\n",
              "        <path d=\"M19 3H5c-1.1 0-2 .9-2 2v14c0 1.1.9 2 2 2h14c1.1 0 2-.9 2-2V5c0-1.1-.9-2-2-2zM9 17H7v-7h2v7zm4 0h-2V7h2v10zm4 0h-2v-4h2v4z\"/>\n",
              "    </g>\n",
              "</svg>\n",
              "  </button>\n",
              "\n",
              "<style>\n",
              "  .colab-df-quickchart {\n",
              "      --bg-color: #E8F0FE;\n",
              "      --fill-color: #1967D2;\n",
              "      --hover-bg-color: #E2EBFA;\n",
              "      --hover-fill-color: #174EA6;\n",
              "      --disabled-fill-color: #AAA;\n",
              "      --disabled-bg-color: #DDD;\n",
              "  }\n",
              "\n",
              "  [theme=dark] .colab-df-quickchart {\n",
              "      --bg-color: #3B4455;\n",
              "      --fill-color: #D2E3FC;\n",
              "      --hover-bg-color: #434B5C;\n",
              "      --hover-fill-color: #FFFFFF;\n",
              "      --disabled-bg-color: #3B4455;\n",
              "      --disabled-fill-color: #666;\n",
              "  }\n",
              "\n",
              "  .colab-df-quickchart {\n",
              "    background-color: var(--bg-color);\n",
              "    border: none;\n",
              "    border-radius: 50%;\n",
              "    cursor: pointer;\n",
              "    display: none;\n",
              "    fill: var(--fill-color);\n",
              "    height: 32px;\n",
              "    padding: 0;\n",
              "    width: 32px;\n",
              "  }\n",
              "\n",
              "  .colab-df-quickchart:hover {\n",
              "    background-color: var(--hover-bg-color);\n",
              "    box-shadow: 0 1px 2px rgba(60, 64, 67, 0.3), 0 1px 3px 1px rgba(60, 64, 67, 0.15);\n",
              "    fill: var(--button-hover-fill-color);\n",
              "  }\n",
              "\n",
              "  .colab-df-quickchart-complete:disabled,\n",
              "  .colab-df-quickchart-complete:disabled:hover {\n",
              "    background-color: var(--disabled-bg-color);\n",
              "    fill: var(--disabled-fill-color);\n",
              "    box-shadow: none;\n",
              "  }\n",
              "\n",
              "  .colab-df-spinner {\n",
              "    border: 2px solid var(--fill-color);\n",
              "    border-color: transparent;\n",
              "    border-bottom-color: var(--fill-color);\n",
              "    animation:\n",
              "      spin 1s steps(1) infinite;\n",
              "  }\n",
              "\n",
              "  @keyframes spin {\n",
              "    0% {\n",
              "      border-color: transparent;\n",
              "      border-bottom-color: var(--fill-color);\n",
              "      border-left-color: var(--fill-color);\n",
              "    }\n",
              "    20% {\n",
              "      border-color: transparent;\n",
              "      border-left-color: var(--fill-color);\n",
              "      border-top-color: var(--fill-color);\n",
              "    }\n",
              "    30% {\n",
              "      border-color: transparent;\n",
              "      border-left-color: var(--fill-color);\n",
              "      border-top-color: var(--fill-color);\n",
              "      border-right-color: var(--fill-color);\n",
              "    }\n",
              "    40% {\n",
              "      border-color: transparent;\n",
              "      border-right-color: var(--fill-color);\n",
              "      border-top-color: var(--fill-color);\n",
              "    }\n",
              "    60% {\n",
              "      border-color: transparent;\n",
              "      border-right-color: var(--fill-color);\n",
              "    }\n",
              "    80% {\n",
              "      border-color: transparent;\n",
              "      border-right-color: var(--fill-color);\n",
              "      border-bottom-color: var(--fill-color);\n",
              "    }\n",
              "    90% {\n",
              "      border-color: transparent;\n",
              "      border-bottom-color: var(--fill-color);\n",
              "    }\n",
              "  }\n",
              "</style>\n",
              "\n",
              "  <script>\n",
              "    async function quickchart(key) {\n",
              "      const quickchartButtonEl =\n",
              "        document.querySelector('#' + key + ' button');\n",
              "      quickchartButtonEl.disabled = true;  // To prevent multiple clicks.\n",
              "      quickchartButtonEl.classList.add('colab-df-spinner');\n",
              "      try {\n",
              "        const charts = await google.colab.kernel.invokeFunction(\n",
              "            'suggestCharts', [key], {});\n",
              "      } catch (error) {\n",
              "        console.error('Error during call to suggestCharts:', error);\n",
              "      }\n",
              "      quickchartButtonEl.classList.remove('colab-df-spinner');\n",
              "      quickchartButtonEl.classList.add('colab-df-quickchart-complete');\n",
              "    }\n",
              "    (() => {\n",
              "      let quickchartButtonEl =\n",
              "        document.querySelector('#df-864f3893-7edf-4259-851f-58b6f82e42c8 button');\n",
              "      quickchartButtonEl.style.display =\n",
              "        google.colab.kernel.accessAllowed ? 'block' : 'none';\n",
              "    })();\n",
              "  </script>\n",
              "</div>\n",
              "\n",
              "    </div>\n",
              "  </div>\n"
            ],
            "application/vnd.google.colaboratory.intrinsic+json": {
              "type": "dataframe",
              "variable_name": "data",
              "summary": "{\n  \"name\": \"data\",\n  \"rows\": 768,\n  \"fields\": [\n    {\n      \"column\": \"X1\",\n      \"properties\": {\n        \"dtype\": \"number\",\n        \"std\": 0.10577747587475192,\n        \"min\": 0.62,\n        \"max\": 0.98,\n        \"num_unique_values\": 12,\n        \"samples\": [\n          0.64,\n          0.66,\n          0.98\n        ],\n        \"semantic_type\": \"\",\n        \"description\": \"\"\n      }\n    },\n    {\n      \"column\": \"X2\",\n      \"properties\": {\n        \"dtype\": \"number\",\n        \"std\": 88.08611605586836,\n        \"min\": 514.5,\n        \"max\": 808.5,\n        \"num_unique_values\": 12,\n        \"samples\": [\n          784.0,\n          759.5,\n          514.5\n        ],\n        \"semantic_type\": \"\",\n        \"description\": \"\"\n      }\n    },\n    {\n      \"column\": \"X3\",\n      \"properties\": {\n        \"dtype\": \"number\",\n        \"std\": 43.6264814379949,\n        \"min\": 245.0,\n        \"max\": 416.5,\n        \"num_unique_values\": 7,\n        \"samples\": [\n          294.0,\n          318.5,\n          269.5\n        ],\n        \"semantic_type\": \"\",\n        \"description\": \"\"\n      }\n    },\n    {\n      \"column\": \"X4\",\n      \"properties\": {\n        \"dtype\": \"number\",\n        \"std\": 45.16595022292048,\n        \"min\": 110.25,\n        \"max\": 220.5,\n        \"num_unique_values\": 4,\n        \"samples\": [\n          122.5,\n          220.5,\n          110.25\n        ],\n        \"semantic_type\": \"\",\n        \"description\": \"\"\n      }\n    },\n    {\n      \"column\": \"X5\",\n      \"properties\": {\n        \"dtype\": \"number\",\n        \"std\": 1.7511404367453496,\n        \"min\": 3.5,\n        \"max\": 7.0,\n        \"num_unique_values\": 2,\n        \"samples\": [\n          3.5,\n          7.0\n        ],\n        \"semantic_type\": \"\",\n        \"description\": \"\"\n      }\n    },\n    {\n      \"column\": \"X6\",\n      \"properties\": {\n        \"dtype\": \"number\",\n        \"std\": 1,\n        \"min\": 2,\n        \"max\": 5,\n        \"num_unique_values\": 4,\n        \"samples\": [\n          3,\n          5\n        ],\n        \"semantic_type\": \"\",\n        \"description\": \"\"\n      }\n    },\n    {\n      \"column\": \"X7\",\n      \"properties\": {\n        \"dtype\": \"number\",\n        \"std\": 0.13322056291470777,\n        \"min\": 0.0,\n        \"max\": 0.4,\n        \"num_unique_values\": 4,\n        \"samples\": [\n          0.1,\n          0.4\n        ],\n        \"semantic_type\": \"\",\n        \"description\": \"\"\n      }\n    },\n    {\n      \"column\": \"X8\",\n      \"properties\": {\n        \"dtype\": \"number\",\n        \"std\": 1,\n        \"min\": 0,\n        \"max\": 5,\n        \"num_unique_values\": 6,\n        \"samples\": [\n          0,\n          1\n        ],\n        \"semantic_type\": \"\",\n        \"description\": \"\"\n      }\n    },\n    {\n      \"column\": \"Y1\",\n      \"properties\": {\n        \"dtype\": \"number\",\n        \"std\": 10.090195732006158,\n        \"min\": 6.01,\n        \"max\": 43.1,\n        \"num_unique_values\": 586,\n        \"samples\": [\n          16.47,\n          24.94\n        ],\n        \"semantic_type\": \"\",\n        \"description\": \"\"\n      }\n    },\n    {\n      \"column\": \"Y2\",\n      \"properties\": {\n        \"dtype\": \"number\",\n        \"std\": 9.513305562326169,\n        \"min\": 10.9,\n        \"max\": 48.03,\n        \"num_unique_values\": 636,\n        \"samples\": [\n          21.09,\n          20.82\n        ],\n        \"semantic_type\": \"\",\n        \"description\": \"\"\n      }\n    }\n  ]\n}"
            }
          },
          "metadata": {},
          "execution_count": 5
        }
      ],
      "source": [
        "# Clone the GitHub repository\n",
        "!git clone https://github.com/RajakAmit/energy-efficiency-dataset.git\n",
        "\n",
        "# Navigate into the cloned repository\n",
        "%cd energy-efficiency-dataset\n",
        "\n",
        "# Import pandas\n",
        "import pandas as pd\n",
        "\n",
        "# Load the dataset\n",
        "data = pd.read_csv('energy-efficiency.csv')\n",
        "\n",
        "# Display the first few rows of the dataset\n",
        "data.head()\n"
      ]
    },
    {
      "cell_type": "markdown",
      "source": [
        "2. Demonstrating SQL Operations in Google Colab"
      ],
      "metadata": {
        "id": "wLc4KZo5Mt_F"
      }
    },
    {
      "cell_type": "code",
      "source": [
        "import sqlite3\n",
        "import pandas as pd\n",
        "\n",
        "# Create a connection to a SQLite database (in-memory database for this example)\n",
        "conn = sqlite3.connect(':memory:')\n",
        "\n",
        "# Load the dataset into a pandas DataFrameenergy_dataset.csv\n",
        "data = pd.read_csv('energy-efficiency.csv')\n",
        "\n",
        "# Write the DataFrame to a SQL table\n",
        "data.to_sql('Energy_dataset', conn, index=False, if_exists='replace')"
      ],
      "metadata": {
        "colab": {
          "base_uri": "https://localhost:8080/"
        },
        "id": "KK8QIHB9KDtS",
        "outputId": "ccb25251-6f50-4b22-f8b5-fbba009ac2c4"
      },
      "execution_count": 6,
      "outputs": [
        {
          "output_type": "execute_result",
          "data": {
            "text/plain": [
              "768"
            ]
          },
          "metadata": {},
          "execution_count": 6
        }
      ]
    },
    {
      "cell_type": "markdown",
      "source": [
        "\n",
        "1. Select Records\n",
        "\n"
      ],
      "metadata": {
        "id": "Sp2SmbiGMhvF"
      }
    },
    {
      "cell_type": "code",
      "source": [
        "# Select all records\n",
        "select_query = \"SELECT * FROM Energy_dataset LIMIT 5\"\n",
        "selected_data = pd.read_sql(select_query, conn)\n",
        "print(selected_data)\n"
      ],
      "metadata": {
        "colab": {
          "base_uri": "https://localhost:8080/"
        },
        "id": "OgxUicunMg9L",
        "outputId": "aafa2097-7f46-47dd-8b10-2a515b5daf18"
      },
      "execution_count": 7,
      "outputs": [
        {
          "output_type": "stream",
          "name": "stdout",
          "text": [
            "     X1     X2     X3      X4   X5  X6   X7  X8     Y1     Y2\n",
            "0  0.98  514.5  294.0  110.25  7.0   2  0.0   0  15.55  21.33\n",
            "1  0.98  514.5  294.0  110.25  7.0   3  0.0   0  15.55  21.33\n",
            "2  0.98  514.5  294.0  110.25  7.0   4  0.0   0  15.55  21.33\n",
            "3  0.98  514.5  294.0  110.25  7.0   5  0.0   0  15.55  21.33\n",
            "4  0.90  563.5  318.5  122.50  7.0   2  0.0   0  20.84  28.28\n"
          ]
        }
      ]
    },
    {
      "cell_type": "markdown",
      "source": [
        " 2.Insert Records"
      ],
      "metadata": {
        "id": "vAlXUiZdNkpQ"
      }
    },
    {
      "cell_type": "code",
      "source": [
        "# Insert a new record\n",
        "insert_query = \"\"\"\n",
        "INSERT INTO Energy_dataset (X1, X2, X3, X4, X5, X6, X7, X8, Y1, Y2)\n",
        "VALUES (0.62, 514.5, 294.0, 110.25, 7.0, 2, 0.0, 0, 15.55, 21.33)\n",
        "\"\"\"\n",
        "conn.execute(insert_query)\n",
        "conn.commit()\n",
        "\n",
        "# Verify insertion\n",
        "verify_insert = \"SELECT * FROM Energy_dataset WHERE X1 = 0.62\"\n",
        "inserted_data = pd.read_sql(verify_insert, conn)\n",
        "print(inserted_data)\n"
      ],
      "metadata": {
        "colab": {
          "base_uri": "https://localhost:8080/"
        },
        "id": "TySBxysKNqrG",
        "outputId": "00f7e8f1-b778-43f8-92af-74b6ecb3b6ec"
      },
      "execution_count": 8,
      "outputs": [
        {
          "output_type": "stream",
          "name": "stdout",
          "text": [
            "      X1     X2     X3      X4   X5  X6   X7  X8     Y1     Y2\n",
            "0   0.62  808.5  367.5  220.50  3.5   2  0.0   0   8.60  12.07\n",
            "1   0.62  808.5  367.5  220.50  3.5   3  0.0   0   8.49  12.22\n",
            "2   0.62  808.5  367.5  220.50  3.5   4  0.0   0   8.45  12.08\n",
            "3   0.62  808.5  367.5  220.50  3.5   5  0.0   0   8.50  12.04\n",
            "4   0.62  808.5  367.5  220.50  3.5   2  0.1   1  12.96  14.34\n",
            "..   ...    ...    ...     ...  ...  ..  ...  ..    ...    ...\n",
            "60  0.62  808.5  367.5  220.50  3.5   2  0.4   5  16.54  16.88\n",
            "61  0.62  808.5  367.5  220.50  3.5   3  0.4   5  16.44  17.11\n",
            "62  0.62  808.5  367.5  220.50  3.5   4  0.4   5  16.48  16.61\n",
            "63  0.62  808.5  367.5  220.50  3.5   5  0.4   5  16.64  16.03\n",
            "64  0.62  514.5  294.0  110.25  7.0   2  0.0   0  15.55  21.33\n",
            "\n",
            "[65 rows x 10 columns]\n"
          ]
        }
      ]
    },
    {
      "cell_type": "markdown",
      "source": [
        "3. Update Records"
      ],
      "metadata": {
        "id": "bL6--fdPN37G"
      }
    },
    {
      "cell_type": "code",
      "source": [
        "# Update records\n",
        "update_query = \"UPDATE Energy_dataset SET Y1 = 16.75 WHERE X2 = 514.5\"\n",
        "conn.execute(update_query)\n",
        "conn.commit()\n",
        "\n",
        "# Verify update\n",
        "verify_update = \"SELECT * FROM Energy_dataset WHERE X2 = 514.5\"\n",
        "updated_data = pd.read_sql(verify_update, conn)\n",
        "print(updated_data)\n"
      ],
      "metadata": {
        "colab": {
          "base_uri": "https://localhost:8080/"
        },
        "id": "-D-0_CZcN41W",
        "outputId": "9b73063c-81f9-4999-fd28-7212298f61e3"
      },
      "execution_count": 9,
      "outputs": [
        {
          "output_type": "stream",
          "name": "stdout",
          "text": [
            "      X1     X2     X3      X4   X5  X6   X7  X8     Y1     Y2\n",
            "0   0.98  514.5  294.0  110.25  7.0   2  0.0   0  16.75  21.33\n",
            "1   0.98  514.5  294.0  110.25  7.0   3  0.0   0  16.75  21.33\n",
            "2   0.98  514.5  294.0  110.25  7.0   4  0.0   0  16.75  21.33\n",
            "3   0.98  514.5  294.0  110.25  7.0   5  0.0   0  16.75  21.33\n",
            "4   0.98  514.5  294.0  110.25  7.0   2  0.1   1  16.75  26.47\n",
            "..   ...    ...    ...     ...  ...  ..  ...  ..    ...    ...\n",
            "60  0.98  514.5  294.0  110.25  7.0   2  0.4   5  16.75  32.88\n",
            "61  0.98  514.5  294.0  110.25  7.0   3  0.4   5  16.75  33.23\n",
            "62  0.98  514.5  294.0  110.25  7.0   4  0.4   5  16.75  33.76\n",
            "63  0.98  514.5  294.0  110.25  7.0   5  0.4   5  16.75  34.01\n",
            "64  0.62  514.5  294.0  110.25  7.0   2  0.0   0  16.75  21.33\n",
            "\n",
            "[65 rows x 10 columns]\n"
          ]
        }
      ]
    },
    {
      "cell_type": "markdown",
      "source": [
        "4. Delete Records"
      ],
      "metadata": {
        "id": "RJUU7PmaOC-T"
      }
    },
    {
      "cell_type": "code",
      "source": [
        "# Delete records\n",
        "delete_query = \"DELETE FROM Energy_dataset WHERE X2 < 300\"\n",
        "conn.execute(delete_query)\n",
        "conn.commit()\n",
        "\n",
        "# Verify deletion\n",
        "verify_delete = \"SELECT * FROM Energy_dataset WHERE X2 < 300\"\n",
        "deleted_data = pd.read_sql(verify_delete, conn)\n",
        "print(deleted_data)\n"
      ],
      "metadata": {
        "colab": {
          "base_uri": "https://localhost:8080/"
        },
        "id": "6fcmoR8FOD0K",
        "outputId": "d9da7ddc-8a94-41a6-bca5-7d28e81afa5a"
      },
      "execution_count": 10,
      "outputs": [
        {
          "output_type": "stream",
          "name": "stdout",
          "text": [
            "Empty DataFrame\n",
            "Columns: [X1, X2, X3, X4, X5, X6, X7, X8, Y1, Y2]\n",
            "Index: []\n"
          ]
        }
      ]
    },
    {
      "cell_type": "markdown",
      "source": [
        "3. Using Mathematical Expressions, Aggregate Functions, and Arithmetic Functions\n",
        "Mathematical Expressions"
      ],
      "metadata": {
        "id": "nDiMOWTVOKGc"
      }
    },
    {
      "cell_type": "code",
      "source": [
        "# Mathematical expression: calculate a new column as the sum of two columns\n",
        "math_query = \"SELECT X1, X2, X3, (X2 + X3) AS Total_Area FROM Energy_dataset\"\n",
        "math_data = pd.read_sql(math_query, conn)\n",
        "print(math_data.head())\n"
      ],
      "metadata": {
        "colab": {
          "base_uri": "https://localhost:8080/"
        },
        "id": "oEBHw2zDOOki",
        "outputId": "6bf55ad9-d0f6-45b6-a0d1-768bafc04b12"
      },
      "execution_count": 11,
      "outputs": [
        {
          "output_type": "stream",
          "name": "stdout",
          "text": [
            "     X1     X2     X3  Total_Area\n",
            "0  0.98  514.5  294.0       808.5\n",
            "1  0.98  514.5  294.0       808.5\n",
            "2  0.98  514.5  294.0       808.5\n",
            "3  0.98  514.5  294.0       808.5\n",
            "4  0.90  563.5  318.5       882.0\n"
          ]
        }
      ]
    },
    {
      "cell_type": "markdown",
      "source": [
        "Aggregate Functions\n"
      ],
      "metadata": {
        "id": "4If3dGc1OThs"
      }
    },
    {
      "cell_type": "code",
      "source": [
        "# Aggregate function: calculate the average Heating Load\n",
        "aggregate_query = \"SELECT AVG(Y1) AS Average_Heating_Load FROM Energy_dataset\"\n",
        "aggregate_data = pd.read_sql(aggregate_query, conn)\n",
        "print(aggregate_data)\n"
      ],
      "metadata": {
        "colab": {
          "base_uri": "https://localhost:8080/"
        },
        "id": "EuizpslBOUDS",
        "outputId": "be1af321-5cde-4976-ea3c-9c94ec76ac63"
      },
      "execution_count": 12,
      "outputs": [
        {
          "output_type": "stream",
          "name": "stdout",
          "text": [
            "   Average_Heating_Load\n",
            "0             21.393134\n"
          ]
        }
      ]
    },
    {
      "cell_type": "markdown",
      "source": [
        "Arithmetic Functions"
      ],
      "metadata": {
        "id": "zQLsWehEOb4S"
      }
    },
    {
      "cell_type": "code",
      "source": [
        "# Arithmetic function: calculate the ratio of Heating Load to Cooling Load\n",
        "arithmetic_query = \"SELECT Y1, Y2, (Y1 / Y2) AS Load_Ratio FROM Energy_dataset\"\n",
        "arithmetic_data = pd.read_sql(arithmetic_query, conn)\n",
        "print(arithmetic_data.head())\n"
      ],
      "metadata": {
        "colab": {
          "base_uri": "https://localhost:8080/"
        },
        "id": "t8oBs86nOVNu",
        "outputId": "1f669759-b7a6-48e6-ac5c-8a87f2cda334"
      },
      "execution_count": 13,
      "outputs": [
        {
          "output_type": "stream",
          "name": "stdout",
          "text": [
            "      Y1     Y2  Load_Ratio\n",
            "0  16.75  21.33    0.785279\n",
            "1  16.75  21.33    0.785279\n",
            "2  16.75  21.33    0.785279\n",
            "3  16.75  21.33    0.785279\n",
            "4  20.84  28.28    0.736917\n"
          ]
        }
      ]
    },
    {
      "cell_type": "markdown",
      "source": [],
      "metadata": {
        "id": "hG9kH5JNPESi"
      }
    },
    {
      "cell_type": "code",
      "source": [],
      "metadata": {
        "id": "guicJem3PFYb"
      },
      "execution_count": null,
      "outputs": []
    }
  ]
}